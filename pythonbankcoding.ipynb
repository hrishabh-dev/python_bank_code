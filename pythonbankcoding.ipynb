{
  "nbformat": 4,
  "nbformat_minor": 0,
  "metadata": {
    "colab": {
      "provenance": [],
      "authorship_tag": "ABX9TyP9wgyVnYBw/R8S381wH/Mt"
    },
    "kernelspec": {
      "name": "python3",
      "display_name": "Python 3"
    },
    "language_info": {
      "name": "python"
    }
  },
  "cells": [
    {
      "cell_type": "code",
      "execution_count": 12,
      "metadata": {
        "id": "QFg7lFx5fkRF"
      },
      "outputs": [],
      "source": [
        "class bank:\n",
        "  def __init__(self,number,balance):\n",
        "    self.__number=number\n",
        "    self.__balance=balance\n",
        "  def deposit(self,amount):\n",
        "    self.__balance+=amount\n",
        "    return \"amount deposited\"\n",
        "  def withdrawl(self,amount):\n",
        "    if self.__balance>=amount:\n",
        "      self.__balance-=amount\n",
        "      return \"amount withdrawn\"\n",
        "    else:\n",
        "      return \"insufficient balance\"\n",
        "  def info(self):\n",
        "    return f\"account number:-{self.__number}-----> balance {self.__balance}\""
      ]
    },
    {
      "cell_type": "code",
      "source": [
        "n=bank(12345,20000)"
      ],
      "metadata": {
        "id": "RPX5S7UahOF-"
      },
      "execution_count": 7,
      "outputs": []
    },
    {
      "cell_type": "code",
      "source": [
        "n"
      ],
      "metadata": {
        "colab": {
          "base_uri": "https://localhost:8080/"
        },
        "id": "oHb0rVX2hZmd",
        "outputId": "d4df4708-2b79-4df3-985a-08b9925e17ea"
      },
      "execution_count": 8,
      "outputs": [
        {
          "output_type": "execute_result",
          "data": {
            "text/plain": [
              "<__main__.bank at 0x78c1c0c7ea10>"
            ]
          },
          "metadata": {},
          "execution_count": 8
        }
      ]
    },
    {
      "cell_type": "code",
      "source": [
        "n.deposit(10000)"
      ],
      "metadata": {
        "colab": {
          "base_uri": "https://localhost:8080/",
          "height": 36
        },
        "id": "3nveRwTohaA4",
        "outputId": "fbd749d6-678b-4998-ba50-5c2259bdc6c6"
      },
      "execution_count": 9,
      "outputs": [
        {
          "output_type": "execute_result",
          "data": {
            "text/plain": [
              "'amount deposited'"
            ],
            "application/vnd.google.colaboratory.intrinsic+json": {
              "type": "string"
            }
          },
          "metadata": {},
          "execution_count": 9
        }
      ]
    },
    {
      "cell_type": "code",
      "source": [
        "n.info()"
      ],
      "metadata": {
        "colab": {
          "base_uri": "https://localhost:8080/",
          "height": 36
        },
        "id": "YfwM3iJ0hcbG",
        "outputId": "1012c988-3c6e-47b2-da41-8149720aba92"
      },
      "execution_count": 10,
      "outputs": [
        {
          "output_type": "execute_result",
          "data": {
            "text/plain": [
              "'account number:-12345-----> balance 30000'"
            ],
            "application/vnd.google.colaboratory.intrinsic+json": {
              "type": "string"
            }
          },
          "metadata": {},
          "execution_count": 10
        }
      ]
    },
    {
      "cell_type": "code",
      "source": [
        "n.withdrawl(40000)"
      ],
      "metadata": {
        "colab": {
          "base_uri": "https://localhost:8080/",
          "height": 36
        },
        "id": "grKYe_P0hfO5",
        "outputId": "84a970d6-2a1d-4d34-b69a-f0294d1cd91a"
      },
      "execution_count": 11,
      "outputs": [
        {
          "output_type": "execute_result",
          "data": {
            "text/plain": [
              "'insufficient balance'"
            ],
            "application/vnd.google.colaboratory.intrinsic+json": {
              "type": "string"
            }
          },
          "metadata": {},
          "execution_count": 11
        }
      ]
    },
    {
      "cell_type": "code",
      "source": [],
      "metadata": {
        "id": "SnKTVerNhkGA"
      },
      "execution_count": null,
      "outputs": []
    }
  ]
}